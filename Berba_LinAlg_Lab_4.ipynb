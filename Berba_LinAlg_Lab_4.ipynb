{
  "nbformat": 4,
  "nbformat_minor": 0,
  "metadata": {
    "kernelspec": {
      "display_name": "Python 3",
      "language": "python",
      "name": "python3"
    },
    "language_info": {
      "codemirror_mode": {
        "name": "ipython",
        "version": 3
      },
      "file_extension": ".py",
      "mimetype": "text/x-python",
      "name": "python",
      "nbconvert_exporter": "python",
      "pygments_lexer": "ipython3",
      "version": "3.8.3-final"
    },
    "colab": {
      "name": "LinAlg Lab 4.ipynb",
      "provenance": [],
      "include_colab_link": true
    }
  },
  "cells": [
    {
      "cell_type": "markdown",
      "metadata": {
        "id": "view-in-github",
        "colab_type": "text"
      },
      "source": [
        "<a href=\"https://colab.research.google.com/github/PeriBerba/Linear-Algebra-LAB-activity/blob/main/Berba_LinAlg_Lab_4.ipynb\" target=\"_parent\"><img src=\"https://colab.research.google.com/assets/colab-badge.svg\" alt=\"Open In Colab\"/></a>"
      ]
    },
    {
      "cell_type": "markdown",
      "metadata": {
        "id": "0gjyPA1JKtdS"
      },
      "source": [
        "# Linear Algebra for CpE\n",
        "## Laboratory 4 : Vector Operations"
      ]
    },
    {
      "cell_type": "markdown",
      "metadata": {
        "id": "iH6HK15uKtdX"
      },
      "source": [
        "Now that you have a fundamental knowledge about linear combination, we'll try to apply the fundamental operations"
      ]
    },
    {
      "cell_type": "markdown",
      "metadata": {
        "id": "ocioHyMQKtdY"
      },
      "source": [
        "### Objectives\n",
        "At the end of this activity you will be able to:\n",
        "1. Referesh knowledge on vector operations while being familiar with new operations such as products.\n",
        "2. Visualize vector operations.\n",
        "3. Perform vector operations using Python."
      ]
    },
    {
      "cell_type": "markdown",
      "metadata": {
        "id": "H12RzFWIKtdY"
      },
      "source": [
        "## Discussion"
      ]
    },
    {
      "cell_type": "code",
      "metadata": {
        "id": "KXJ82gYQKtdY"
      },
      "source": [
        "import numpy as np"
      ],
      "execution_count": null,
      "outputs": []
    },
    {
      "cell_type": "markdown",
      "metadata": {
        "id": "wil6uzDcKtdZ"
      },
      "source": [
        "We have dealt with some of the vector operations in the last module, now we will dwell into more operations. In this laboratory, we will tackle addition,multiplication,division and the inner product of a vector."
      ]
    },
    {
      "cell_type": "markdown",
      "metadata": {
        "id": "wPO82O4hKtdZ"
      },
      "source": [
        "## Vector Addition"
      ]
    },
    {
      "cell_type": "markdown",
      "metadata": {
        "id": "ulK053qqKtdZ"
      },
      "source": [
        "We have encountered vector before especially with your last activity. Vector addition is simply the element-wise addition of the scalar values of the vectors. Let's take the following vectors as a sample:\n",
        "\n",
        "$$A = \\begin{bmatrix}1\\\\2\\\\0\\end{bmatrix}, B= \\begin{bmatrix}3\\\\1\\\\-2 \\end{bmatrix}$$\n",
        "\n",
        "So if do a vector addition of these two vectors we'll get:\n",
        "\n",
        "$$A + B = \\begin{bmatrix}4\\\\3\\\\-2\\end{bmatrix}$$\n",
        "\n",
        "We can progammatically solve this using `np.add()` or simply using `+`."
      ]
    },
    {
      "cell_type": "code",
      "metadata": {
        "id": "jOnYm-YrKtdZ"
      },
      "source": [
        "A = np.array([1,2,0])\n",
        "B = np.array([3,1,-2])\n",
        "C = np.array([0,0,1])"
      ],
      "execution_count": null,
      "outputs": []
    },
    {
      "cell_type": "code",
      "metadata": {
        "id": "Id_OTsfrKtda",
        "colab": {
          "base_uri": "https://localhost:8080/"
        },
        "outputId": "536de7d8-bc14-4374-c186-5a669b5ec29b"
      },
      "source": [
        "A+B+C"
      ],
      "execution_count": null,
      "outputs": [
        {
          "output_type": "execute_result",
          "data": {
            "text/plain": [
              "array([ 4,  3, -1])"
            ]
          },
          "metadata": {
            "tags": []
          },
          "execution_count": 7
        }
      ]
    },
    {
      "cell_type": "code",
      "metadata": {
        "id": "OSdg5AJuKtdb",
        "colab": {
          "base_uri": "https://localhost:8080/"
        },
        "outputId": "80f9b9e2-eb34-4525-a7bd-19f568e10025"
      },
      "source": [
        "np.add(A,np.add(B,C))"
      ],
      "execution_count": null,
      "outputs": [
        {
          "output_type": "execute_result",
          "data": {
            "text/plain": [
              "array([ 4,  3, -1])"
            ]
          },
          "metadata": {
            "tags": []
          },
          "execution_count": 11
        }
      ]
    },
    {
      "cell_type": "code",
      "metadata": {
        "colab": {
          "base_uri": "https://localhost:8080/"
        },
        "id": "U9ZbuWL77MdP",
        "outputId": "4ea7d762-fa14-4c3d-fc60-4f134072c259"
      },
      "source": [
        "np.sum(B)"
      ],
      "execution_count": null,
      "outputs": [
        {
          "output_type": "execute_result",
          "data": {
            "text/plain": [
              "2"
            ]
          },
          "metadata": {
            "tags": []
          },
          "execution_count": 13
        }
      ]
    },
    {
      "cell_type": "markdown",
      "metadata": {
        "id": "hcmngHMmKtdb"
      },
      "source": [
        "## Vector Subtraction"
      ]
    },
    {
      "cell_type": "markdown",
      "metadata": {
        "id": "YLJmSSG0Ktdb"
      },
      "source": [
        "Vector subtraction is similar to your vector addition but you would need to scale the second vector using a negative scalar that is usuall $-1$. So if we subtract vector $B$ from vector $A$ we get:\n",
        "\n",
        "$$A-B = \\begin{bmatrix}-2\\\\1\\\\2\\end{bmatrix}$$\n",
        "\n",
        "In Python, this can be achieved by using `np.subtract()` or `-`"
      ]
    },
    {
      "cell_type": "code",
      "metadata": {
        "id": "mrAGvr5gKtdb",
        "colab": {
          "base_uri": "https://localhost:8080/"
        },
        "outputId": "8838f93f-3194-4e7f-c9d7-b3d08cb61f6c"
      },
      "source": [
        "np.subtract(A,B)"
      ],
      "execution_count": null,
      "outputs": [
        {
          "output_type": "execute_result",
          "data": {
            "text/plain": [
              "array([-2,  1,  2])"
            ]
          },
          "metadata": {
            "tags": []
          },
          "execution_count": 14
        }
      ]
    },
    {
      "cell_type": "code",
      "metadata": {
        "id": "S2bPjOFUKtdc",
        "colab": {
          "base_uri": "https://localhost:8080/"
        },
        "outputId": "ba0c7a62-982b-4f9a-b57a-f5a457b3aa81"
      },
      "source": [
        "A-B"
      ],
      "execution_count": null,
      "outputs": [
        {
          "output_type": "execute_result",
          "data": {
            "text/plain": [
              "array([-2,  1,  2])"
            ]
          },
          "metadata": {
            "tags": []
          },
          "execution_count": 15
        }
      ]
    },
    {
      "cell_type": "markdown",
      "metadata": {
        "id": "bWdtUj7OKtdc"
      },
      "source": [
        "## Vector Multiplication"
      ]
    },
    {
      "cell_type": "markdown",
      "metadata": {
        "id": "pgcB5oNyKtdc"
      },
      "source": [
        "Vector multiplication, like addition does its operations element-wise. So basic vector multiplication can be achieved by multiplying the elements or the scalars of the vectors individually. So:\n",
        "$$A * B = \\begin{bmatrix}3\\\\2\\\\0\\end{bmatrix}$$\n",
        "We can implement this in code by using `np.multiply()` or simply operating with `*`."
      ]
    },
    {
      "cell_type": "code",
      "metadata": {
        "id": "ep8YyQDmKtdd",
        "colab": {
          "base_uri": "https://localhost:8080/"
        },
        "outputId": "138b6498-3a42-4680-d424-9fa0051d06a6"
      },
      "source": [
        "np.multiply(A,B)"
      ],
      "execution_count": null,
      "outputs": [
        {
          "output_type": "execute_result",
          "data": {
            "text/plain": [
              "array([3, 2, 0])"
            ]
          },
          "metadata": {
            "tags": []
          },
          "execution_count": 16
        }
      ]
    },
    {
      "cell_type": "code",
      "metadata": {
        "id": "GWygp8gkKtdd",
        "colab": {
          "base_uri": "https://localhost:8080/"
        },
        "outputId": "d31ffc1f-ff64-4f30-a56f-ca95b3c281f6"
      },
      "source": [
        "A*B"
      ],
      "execution_count": null,
      "outputs": [
        {
          "output_type": "execute_result",
          "data": {
            "text/plain": [
              "array([3, 2, 0])"
            ]
          },
          "metadata": {
            "tags": []
          },
          "execution_count": 17
        }
      ]
    },
    {
      "cell_type": "markdown",
      "metadata": {
        "id": "Nva_5geWKtdd"
      },
      "source": [
        "## Vector Division"
      ]
    },
    {
      "cell_type": "markdown",
      "metadata": {
        "id": "gbPLif1CKtdd"
      },
      "source": [
        "Dividing a vector by another is uncommon, but if the situation specifies that each elements or scalars of the vector would be divided individually we can perform this by:\n",
        "$$A./B = \\begin{bmatrix}\\frac{1}{3}\\\\2\\\\0\\end{bmatrix}$$\n",
        "Take note that the notation we used here is $./$ for element-wise division, this notation is based in a MATLab notation for element-wise division. This can be achieved in Python using `np.divide()` or `/`."
      ]
    },
    {
      "cell_type": "code",
      "metadata": {
        "id": "i503AW8uKtdd",
        "colab": {
          "base_uri": "https://localhost:8080/"
        },
        "outputId": "02426a09-0f85-47f2-cfeb-23045c1febc0"
      },
      "source": [
        "np.divide(A,B)"
      ],
      "execution_count": null,
      "outputs": [
        {
          "output_type": "execute_result",
          "data": {
            "text/plain": [
              "array([ 0.33333333,  2.        , -0.        ])"
            ]
          },
          "metadata": {
            "tags": []
          },
          "execution_count": 18
        }
      ]
    },
    {
      "cell_type": "code",
      "metadata": {
        "id": "un6jrygRKtdg",
        "colab": {
          "base_uri": "https://localhost:8080/"
        },
        "outputId": "4cd07cc5-66a0-49bf-99f9-9aa58df76cd7"
      },
      "source": [
        "A/B"
      ],
      "execution_count": null,
      "outputs": [
        {
          "output_type": "execute_result",
          "data": {
            "text/plain": [
              "array([ 0.33333333,  2.        , -0.        ])"
            ]
          },
          "metadata": {
            "tags": []
          },
          "execution_count": 19
        }
      ]
    },
    {
      "cell_type": "code",
      "metadata": {
        "colab": {
          "base_uri": "https://localhost:8080/"
        },
        "id": "3cHXU6VN732O",
        "outputId": "db2c2cff-5ab2-4f76-dd85-8dad1afb712c"
      },
      "source": [
        "C = np.array([3.9,1.8,7.7])\r\n",
        "D = np.array([1,1,1])\r\n",
        "C//D"
      ],
      "execution_count": null,
      "outputs": [
        {
          "output_type": "execute_result",
          "data": {
            "text/plain": [
              "array([3., 1., 7.])"
            ]
          },
          "metadata": {
            "tags": []
          },
          "execution_count": 26
        }
      ]
    },
    {
      "cell_type": "code",
      "metadata": {
        "colab": {
          "base_uri": "https://localhost:8080/"
        },
        "id": "eG5bfGlZ7a9Z",
        "outputId": "820053b0-cd30-4576-d8f7-f8c09cf79a8f"
      },
      "source": [
        "np.array(A/B,dtype=int)"
      ],
      "execution_count": null,
      "outputs": [
        {
          "output_type": "execute_result",
          "data": {
            "text/plain": [
              "array([0, 2, 0])"
            ]
          },
          "metadata": {
            "tags": []
          },
          "execution_count": 22
        }
      ]
    },
    {
      "cell_type": "markdown",
      "metadata": {
        "id": "e96oBq1nKtdg"
      },
      "source": [
        "## Modulus of a Vector"
      ]
    },
    {
      "cell_type": "markdown",
      "metadata": {
        "id": "fOmYCOHEKtdg"
      },
      "source": [
        "The modulus of a vector or the magnitude of a vector can be determined using the Pythagorean theorem. Given the vector $A$ and its scalars denoted as $a_n$ where $n$ is the index of the scalar. So if we have:\n",
        "$$A = \\begin{bmatrix}1\\\\2\\end{bmatrix}$$\n",
        "We can compute the magnitude as:\n",
        "$$||A|| = \\sqrt{a_1^2 + a_2^2} = \\sqrt{1^2 + 2^2} = \\sqrt{5}$$\n",
        "So if we have a matrix with more parameters such as:\n",
        "$$B=\\begin{bmatrix}2\\\\5\\\\-1\\\\0\\end{bmatrix}$$\n",
        "We can generalize the Pythagorean theorem to compute for the magnitude as:\n",
        "$$||B|| = \\sqrt{b_1^2 + b_2^2 + b_3^2 + ... +b_n^2} = \\sqrt{\\sum_{n=1}^{N}b_n^2}$$\n",
        "And this equation is now called a Euclidian distance or the Euclidean Norm. We can implement this explicitly by for loops or using `np.linalg.norm()` to get the Euclidian Norm."
      ]
    },
    {
      "cell_type": "code",
      "metadata": {
        "id": "kcBJB76oKtdh"
      },
      "source": [
        "A = np.array([1,2])\n",
        "B = np.array([2,5,-1,0])"
      ],
      "execution_count": null,
      "outputs": []
    },
    {
      "cell_type": "code",
      "metadata": {
        "id": "ABdM9ETAKtdh",
        "colab": {
          "base_uri": "https://localhost:8080/"
        },
        "outputId": "845b0e27-f452-4f0a-edb4-d6a4bbf9e50a"
      },
      "source": [
        "np.linalg.norm(A)"
      ],
      "execution_count": null,
      "outputs": [
        {
          "output_type": "execute_result",
          "data": {
            "text/plain": [
              "2.23606797749979"
            ]
          },
          "metadata": {
            "tags": []
          },
          "execution_count": 27
        }
      ]
    },
    {
      "cell_type": "code",
      "metadata": {
        "id": "if7rRjUHKtdh",
        "colab": {
          "base_uri": "https://localhost:8080/"
        },
        "outputId": "0dd49305-3015-4b3b-fd9b-36e20f61e00f"
      },
      "source": [
        "np.linalg.norm(B)"
      ],
      "execution_count": null,
      "outputs": [
        {
          "output_type": "execute_result",
          "data": {
            "text/plain": [
              "3.7416573867739413"
            ]
          },
          "metadata": {
            "tags": []
          },
          "execution_count": 29
        }
      ]
    },
    {
      "cell_type": "markdown",
      "metadata": {
        "id": "9CqMVpT2Ktdh"
      },
      "source": [
        "## Vector Dot Product / Inner Product"
      ]
    },
    {
      "cell_type": "markdown",
      "metadata": {
        "id": "Yqk9nR9GKtdh"
      },
      "source": [
        "The inner product of a vector is the sum of the products of each elements of the vectors. So given vectors $H$ and $G$ below:\n",
        "$$H=\\begin{bmatrix}1\\\\3\\\\6\\end{bmatrix}, G = \\begin{bmatrix}5\\\\2\\\\1\\end{bmatrix}$$\n",
        "We first take the element-wise product of the vectors:\n",
        "$$H*G = \\begin{bmatrix}5\\\\6\\\\6\\end{bmatrix}$$\n",
        "Then we take the sum of the products, making it the inner product of a vector:\n",
        "$$H\\cdot G = 17$$\n",
        "You can solve for the inner product using an explicit function, `np.inner()` or the `@` operator."
      ]
    },
    {
      "cell_type": "code",
      "metadata": {
        "id": "ZWwwV0F9Ktdh"
      },
      "source": [
        "H = np.array([1,3,6])\n",
        "G = np.array([5,2,1])"
      ],
      "execution_count": null,
      "outputs": []
    },
    {
      "cell_type": "code",
      "metadata": {
        "id": "D3nyuLCBKtdi",
        "outputId": "987cb409-6bcc-40b9-fea2-780e5a9c6f64"
      },
      "source": [
        "np.inner(H,G)"
      ],
      "execution_count": null,
      "outputs": [
        {
          "output_type": "execute_result",
          "data": {
            "text/plain": [
              "17"
            ]
          },
          "metadata": {
            "tags": []
          },
          "execution_count": 50
        }
      ]
    },
    {
      "cell_type": "code",
      "metadata": {
        "id": "NsrPudsKKtdi",
        "colab": {
          "base_uri": "https://localhost:8080/"
        },
        "outputId": "1063ffa4-fe48-4644-ff0c-8f31580193a3"
      },
      "source": [
        "np.linalg.norm(H)"
      ],
      "execution_count": null,
      "outputs": [
        {
          "output_type": "execute_result",
          "data": {
            "text/plain": [
              "6.782329983125268"
            ]
          },
          "metadata": {
            "tags": []
          },
          "execution_count": 35
        }
      ]
    },
    {
      "cell_type": "code",
      "metadata": {
        "colab": {
          "base_uri": "https://localhost:8080/"
        },
        "id": "fRN3M2UN9WPm",
        "outputId": "e5a2b892-f87b-47f3-eefe-3f047b60dfec"
      },
      "source": [
        "np.sqrt(H@H)"
      ],
      "execution_count": null,
      "outputs": [
        {
          "output_type": "execute_result",
          "data": {
            "text/plain": [
              "6.782329983125268"
            ]
          },
          "metadata": {
            "tags": []
          },
          "execution_count": 37
        }
      ]
    },
    {
      "cell_type": "markdown",
      "metadata": {
        "id": "As11de-AKtdi"
      },
      "source": [
        "## Activity"
      ]
    },
    {
      "cell_type": "markdown",
      "metadata": {
        "id": "g6my9m9OKtdi"
      },
      "source": [
        "### Task 1"
      ]
    },
    {
      "cell_type": "markdown",
      "metadata": {
        "id": "yP-XW99JKtdi"
      },
      "source": [
        "Make an explicit function (not using any of NumPy's preset functions) solving the modulus of a vector using the Euclidian Norm formula: \n",
        "$$||X|| = \\sqrt{\\sum_{n=1}^{N}x_n^2}$$\n",
        "Create a program flowchart for your algorithm and explain it in your methodology. Create 6 different vectors which their element count should not be lower than 4 elements. Explain the results at the results discussion section while comparing them to the `np.linalg.norm()` function."
      ]
    },
    {
      "cell_type": "code",
      "metadata": {
        "id": "IuoG8l9mKtdj",
        "outputId": "f6e7cd1e-5684-4d14-adf8-a457fef1eda6",
        "colab": {
          "base_uri": "https://localhost:8080/"
        }
      },
      "source": [
        "def my_eucnorm(vector):\r\n",
        "    vector_element = 0\r\n",
        "    for i in range(len(vector)):\r\n",
        "        vector_element += vector[i] **2\r\n",
        "        answer = math.sqrt(vector_element)\r\n",
        "    return(answer)\r\n",
        "\r\n",
        "vector1 = [2,3,5,7]\r\n",
        "vector2 = [1,4,6,8]\r\n",
        "vector3 = [3,6,9,1]\r\n",
        "vector4 = [8,6,4,2]\r\n",
        "vector5 = [2,4,8,9]\r\n",
        "vector6 = [10,8,5,3]\r\n",
        "\r\n",
        "\r\n",
        "print(\"Euclidian Norm : \\n\")\r\n",
        "print(\"Vector 1:\", my_eucnorm(vector1))\r\n",
        "print(\"Vector 2:\", my_eucnorm(vector2))\r\n",
        "print(\"Vector 3:\", my_eucnorm(vector3))\r\n",
        "print(\"Vector 4:\", my_eucnorm(vector4))\r\n",
        "print(\"Vector 5:\", my_eucnorm(vector5))\r\n",
        "print(\"Vector 6:\", my_eucnorm(vector6))\r\n",
        "\r\n",
        "print(\"Euclidian Norm using np.linalg.norm() function: \\n\")\r\n",
        "print(\"Vector 1:\",  np.linalg.norm(vector1))\r\n",
        "print(\"Vector 2:\",  np.linalg.norm(vector2))\r\n",
        "print(\"Vector 3:\",  np.linalg.norm(vector3))\r\n",
        "print(\"Vector 4:\",  np.linalg.norm(vector4))\r\n",
        "print(\"Vector 5:\",  np.linalg.norm(vector5))\r\n",
        "print(\"Vector 6:\",  np.linalg.norm(vector6))"
      ],
      "execution_count": 4,
      "outputs": [
        {
          "output_type": "stream",
          "text": [
            "Euclidian Norm : \n",
            "\n",
            "Vector 1: 9.327379053088816\n",
            "Vector 2: 10.816653826391969\n",
            "Vector 3: 11.269427669584644\n",
            "Vector 4: 10.954451150103322\n",
            "Vector 5: 12.84523257866513\n",
            "Vector 6: 14.071247279470288\n",
            "Euclidian Norm using np.linalg.norm() function: \n",
            "\n",
            "Vector 1: 9.327379053088816\n",
            "Vector 2: 10.816653826391969\n",
            "Vector 3: 11.269427669584644\n",
            "Vector 4: 10.954451150103322\n",
            "Vector 5: 12.84523257866513\n",
            "Vector 6: 14.071247279470288\n"
          ],
          "name": "stdout"
        }
      ]
    },
    {
      "cell_type": "markdown",
      "metadata": {
        "id": "AXjJp6KXKtdj"
      },
      "source": [
        "### Task 2"
      ]
    },
    {
      "cell_type": "markdown",
      "metadata": {
        "id": "Skoy_JdlKtdj"
      },
      "source": [
        "Make an explicit function (not using any of NumPy's preset functions nor the `@` operator) solving the inner product of two vectors using the inner product formula: \n",
        "$$A\\cdot B = \\sum_{n=1}^{N} a_n \\times b_n $$\n",
        "$$whereas: N = len(A) = len(B)$$\n",
        "Create a program flowchart for your algorithm and explain it in your methodology. Create 5 distinct pairs vectors which their element count should not be lower than 5 elements. Explain the results at the results discussion section while comparing them to the `np.inner()` function."
      ]
    },
    {
      "cell_type": "code",
      "metadata": {
        "id": "F_bWvCI8Ktdj",
        "outputId": "77a8d1f0-b29e-4025-9747-6a3e0f4cf431",
        "colab": {
          "base_uri": "https://localhost:8080/"
        }
      },
      "source": [
        "def inner_product(vect1, vect2):\r\n",
        "    sumall = 0\r\n",
        "    if len(vect1) == len(vect2):\r\n",
        "        for j in range(len(vect1)):\r\n",
        "            sumall += vect1[j] * vect2[j]\r\n",
        "        return sumall\r\n",
        "vector1 = np.array([1,4,2,3,6])\r\n",
        "vector2 = np.array([2,3,6,5,8])\r\n",
        "vector3 = np.array([4,3,6,8,2])\r\n",
        "vector4 = np.array([7,3,9,7,3])\r\n",
        "vector5 = np.array([5,6,7,1,2])\r\n",
        "vector6 = np.array([4,9,2,3,4])\r\n",
        "vector7 = np.array([2,1,2,6,9])\r\n",
        "vector8 = np.array([2,4,5,6,8])\r\n",
        "vector9 = np.array([1,9,6,3,1])\r\n",
        "vector10 = np.array([1,4,8,4,2])\r\n",
        "\r\n",
        "print(\"Inner product method:\")\r\n",
        "print(\"Vector 1 and Vector 3: \", inner_product(vector1,vector3))\r\n",
        "print(\"Vector 2 and Vector 4: \", inner_product(vector2,vector4))\r\n",
        "print(\"Vector 5 and Vector 7: \", inner_product(vector5,vector7))\r\n",
        "print(\"Vector 6 and Vector 10:\", inner_product(vector6,vector10))\r\n",
        "print(\"Vector 9 and Vector 8: \", inner_product(vector9,vector8))\r\n",
        "\r\n",
        "print(\"np.inner()method:\")\r\n",
        "print(\"Vector 1 and Vector 3: \", np.inner(vector1,vector3))\r\n",
        "print(\"Vector 2 and Vector 4: \", np.inner(vector2,vector4))\r\n",
        "print(\"Vector 5 and Vector 7: \", np.inner(vector5,vector7))\r\n",
        "print(\"Vector 6 and Vector 9: \", np.inner(vector6,vector9))\r\n",
        "print(\"Vector 8 and Vector 10: \", np.inner(vector8,vector10))"
      ],
      "execution_count": 8,
      "outputs": [
        {
          "output_type": "stream",
          "text": [
            "Inner product method:\n",
            "Vector 1 and Vector 3:  64\n",
            "Vector 2 and Vector 4:  136\n",
            "Vector 5 and Vector 7:  54\n",
            "Vector 6 and Vector 10: 76\n",
            "Vector 9 and Vector 8:  94\n",
            "np.inner()method:\n",
            "Vector 1 and Vector 3:  64\n",
            "Vector 2 and Vector 4:  136\n",
            "Vector 5 and Vector 7:  54\n",
            "Vector 6 and Vector 9:  110\n",
            "Vector 8 and Vector 10:  98\n"
          ],
          "name": "stdout"
        }
      ]
    },
    {
      "cell_type": "markdown",
      "metadata": {
        "id": "6qWPdvHaKtdj"
      },
      "source": [
        "### Task 3"
      ]
    },
    {
      "cell_type": "markdown",
      "metadata": {
        "id": "pnHTuNSnKtdj"
      },
      "source": [
        "Code the following vector operation and solve them using the given vector values"
      ]
    },
    {
      "cell_type": "markdown",
      "metadata": {
        "id": "8h7haB7TKtdj"
      },
      "source": [
        "$$ ((A^2 + B^2 + C^2) * (A * (B + A*B)./C))*||A + B + C||$$\n",
        "$$A = \\begin{bmatrix}-0.4\\\\4.3\\\\-0.6\\end{bmatrix}, B = \\begin{bmatrix}-0.2\\\\0.2\\\\1\\end{bmatrix}, C = \\begin{bmatrix}-0.2\\\\2.1\\\\-1.5\\end{bmatrix}$$"
      ]
    },
    {
      "cell_type": "markdown",
      "metadata": {
        "id": "sH6IXNvAKtdk"
      },
      "source": [
        "Create a program flowchart for your algorithm and explain it in your methodology. In your results, compare your answer to the expected output, visualize, and explain the resulting vector using a 3D plot."
      ]
    },
    {
      "cell_type": "code",
      "metadata": {
        "id": "GvqZVQuJDLH2",
        "outputId": "2c2b8a21-2306-41f7-8a73-db17dec4906c",
        "colab": {
          "base_uri": "https://localhost:8080/",
          "height": 283
        }
      },
      "source": [
        "import numpy as np\r\n",
        "import matplotlib.pyplot as plt\r\n",
        "\r\n",
        "\r\n",
        "A = np.array([-0.4,4.3,-0.6])\r\n",
        "B = np.array([-0.2,0.2,1])\r\n",
        "C = np.array([-0.2,2.1,-1.5])\r\n",
        "\r\n",
        "first = (A@A + B@B + C@C)\r\n",
        "second = (A*(B+A*B)/C)\r\n",
        "third = (np.linalg.norm(A+B+C))\r\n",
        "\r\n",
        "vector = first * second * third\r\n",
        "\r\n",
        "print(vector)\r\n",
        "fig = plt.figure()\r\n",
        "\r\n",
        "graph = plt.axes(projection='3d')\r\n",
        "D = np.arange(0,1.5)\r\n",
        "\r\n",
        "graph.set_xlim([0, 1.2])\r\n",
        "graph.set_ylim([0, 1.2])\r\n",
        "graph.set_zlim([0, 1.2])\r\n",
        "\r\n",
        "graph.plot(D*vector[0], D*vector[1], D*vector[2], color='r')\r\n",
        "plt.show()\r\n",
        "print(\"Answer: \",vector)"
      ],
      "execution_count": 10,
      "outputs": [
        {
          "output_type": "stream",
          "text": [
            "[-43.32710846 391.83523878  28.88473897]\n"
          ],
          "name": "stdout"
        },
        {
          "output_type": "display_data",
          "data": {
            "image/png": "[encoded data removed]",
            "text/plain": [
              "<Figure size 432x288 with 1 Axes>"
            ]
          },
          "metadata": {
            "tags": [],
            "needs_background": "light"
          }
        },
        {
          "output_type": "stream",
          "text": [
            "Answer:  [-43.32710846 391.83523878  28.88473897]\n"
          ],
          "name": "stdout"
        }
      ]
    },
    {
      "cell_type": "markdown",
      "metadata": {
        "id": "izU2vRWtKtdk"
      },
      "source": [
        "## Conclusion guide"
      ]
    },
    {
      "cell_type": "markdown",
      "metadata": {
        "id": "B2IBZHkIKtdk"
      },
      "source": [
        "For your conclusion synthesize the concept and application of the laboratory. Briefly discuss what you have learned and achieved in this activity. "
      ]
    }
  ]
}