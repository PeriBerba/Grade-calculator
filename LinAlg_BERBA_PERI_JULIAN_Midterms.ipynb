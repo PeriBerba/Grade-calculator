{
  "nbformat": 4,
  "nbformat_minor": 0,
  "metadata": {
    "kernelspec": {
      "display_name": "Python 3",
      "language": "python",
      "name": "python3"
    },
    "language_info": {
      "codemirror_mode": {
        "name": "ipython",
        "version": 3
      },
      "file_extension": ".py",
      "mimetype": "text/x-python",
      "name": "python",
      "nbconvert_exporter": "python",
      "pygments_lexer": "ipython3",
      "version": "3.8.3"
    },
    "colab": {
      "name": "LinAlg-Midterms.ipynb",
      "provenance": [],
      "include_colab_link": true
    }
  },
  "cells": [
    {
      "cell_type": "markdown",
      "metadata": {
        "id": "view-in-github",
        "colab_type": "text"
      },
      "source": [
        "<a href=\"https://colab.research.google.com/github/PeriBerba/Linear-Algebra-LAB-activity/blob/main/LinAlg_BERBA_PERI_JULIAN_Midterms.ipynb\" target=\"_parent\"><img src=\"https://colab.research.google.com/assets/colab-badge.svg\" alt=\"Open In Colab\"/></a>"
      ]
    },
    {
      "cell_type": "markdown",
      "metadata": {
        "id": "SnCypWooLH5K"
      },
      "source": [
        "<h1>Linear Algebra (CpE210A)"
      ]
    },
    {
      "cell_type": "markdown",
      "metadata": {
        "id": "q7S68YOXLH5P"
      },
      "source": [
        "<h3>Midterms Project"
      ]
    },
    {
      "cell_type": "markdown",
      "metadata": {
        "id": "rJs6AiysLH5P"
      },
      "source": [
        "Coded and submitted by:<br>\n",
        "<i>Berba, Peri Julian L.<br>\n",
        "    201911370 <br>\n",
        "   58051 </i>"
      ]
    },
    {
      "cell_type": "markdown",
      "metadata": {
        "id": "9iiimW8FLH5P"
      },
      "source": [
        "Directions\n",
        "This Jupyter Notebook will serve as your base code for your Midterm Project. You must further format and provide complete discussion on the given topic. \n",
        "- Provide all necessary explanations for specific code blocks. \n",
        "- Provide illustrations for key results.\n",
        "- Observe clean code (intuitive variable names, proper commenting, proper code spacing)\n",
        "- Provide a summary discussion at the end\n",
        "\n",
        "Failure to use this format or failure to update the document will be given a deduction equivalent to 50% of the original score. "
      ]
    },
    {
      "cell_type": "markdown",
      "metadata": {
        "id": "gbvxh3EILH5Q"
      },
      "source": [
        "### Case"
      ]
    },
    {
      "cell_type": "markdown",
      "metadata": {
        "id": "Kde5dZmHLH5Q"
      },
      "source": [
        "Bebang is back to consult you about her business. Furthering her data analytics initiative she asks you for help to compute some relevant data. Now she is asking you to compute and visualize her sales and costs for the past year. She has given you the datasets attached to her request."
      ]
    },
    {
      "cell_type": "markdown",
      "metadata": {
        "id": "2Ky38OfILH5Q"
      },
      "source": [
        "### Problem"
      ]
    },
    {
      "cell_type": "markdown",
      "metadata": {
        "id": "31g9gkCELH5Q"
      },
      "source": [
        "Using the data sets provided to build two functions that calculate Bebang's monthly sales and flavor sales over the last year, and Sales and expenses for the past years of the Bebang market must be calculated and visualized in the deliverables."
      ]
    },
    {
      "cell_type": "markdown",
      "metadata": {
        "id": "_4v9UlIcLH5R"
      },
      "source": [
        "# Proof of Concept"
      ]
    },
    {
      "cell_type": "markdown",
      "metadata": {
        "id": "gPQvcAmNLH5R"
      },
      "source": [
        "Now that you have a grasp on the requirements we need to start with making a program to prove that her problem is solvable. As a Linear Algebra student, we will be focusin on applying vector operations to meet her needs. First, we need to import her data. We will use the `pandas` library for this. For more information you can look into their documentation [here](https://pandas.pydata.org/)."
      ]
    },
    {
      "cell_type": "code",
      "metadata": {
        "id": "Q6hkQomrLH5R",
        "colab": {
          "base_uri": "https://localhost:8080/",
          "height": 157
        },
        "outputId": "4eb72bf1-13d1-4370-8e41-d56b50e0d8dc"
      },
      "source": [
        "import pandas as pd\n",
        "\n",
        "file_prices = \"bebang prices.csv\"\n",
        "file_sales = \"bebang sales.csv\"\n",
        "\n",
        "df_prices = pd.read_csv(file_prices, index_col=0)\n",
        "df_sales = pd.read_csv(file_sales)\n",
        "\n",
        "\n",
        "## Let's check what's in df_prices\n",
        "df_prices"
      ],
      "execution_count": null,
      "outputs": [
        {
          "output_type": "execute_result",
          "data": {
            "text/html": [
              "<div>\n",
              "<style scoped>\n",
              "    .dataframe tbody tr th:only-of-type {\n",
              "        vertical-align: middle;\n",
              "    }\n",
              "\n",
              "    .dataframe tbody tr th {\n",
              "        vertical-align: top;\n",
              "    }\n",
              "\n",
              "    .dataframe thead th {\n",
              "        text-align: right;\n",
              "    }\n",
              "</style>\n",
              "<table border=\"1\" class=\"dataframe\">\n",
              "  <thead>\n",
              "    <tr style=\"text-align: right;\">\n",
              "      <th></th>\n",
              "      <th>red velvet</th>\n",
              "      <th>oreo</th>\n",
              "      <th>sugar glazed</th>\n",
              "      <th>almond honey</th>\n",
              "      <th>matcha</th>\n",
              "      <th>strawberry cream</th>\n",
              "      <th>brown sugar boba</th>\n",
              "      <th>furits and nuts</th>\n",
              "      <th>dark chocolate</th>\n",
              "      <th>chocolate and orange</th>\n",
              "      <th>choco mint</th>\n",
              "      <th>choco butter naught</th>\n",
              "    </tr>\n",
              "  </thead>\n",
              "  <tbody>\n",
              "    <tr>\n",
              "      <th>price per piece</th>\n",
              "      <td>35</td>\n",
              "      <td>25</td>\n",
              "      <td>20</td>\n",
              "      <td>35</td>\n",
              "      <td>50</td>\n",
              "      <td>40</td>\n",
              "      <td>40</td>\n",
              "      <td>45</td>\n",
              "      <td>30</td>\n",
              "      <td>40</td>\n",
              "      <td>45</td>\n",
              "      <td>45</td>\n",
              "    </tr>\n",
              "    <tr>\n",
              "      <th>cost per piece</th>\n",
              "      <td>25</td>\n",
              "      <td>15</td>\n",
              "      <td>10</td>\n",
              "      <td>20</td>\n",
              "      <td>35</td>\n",
              "      <td>31</td>\n",
              "      <td>30</td>\n",
              "      <td>25</td>\n",
              "      <td>15</td>\n",
              "      <td>25</td>\n",
              "      <td>32</td>\n",
              "      <td>31</td>\n",
              "    </tr>\n",
              "  </tbody>\n",
              "</table>\n",
              "</div>"
            ],
            "text/plain": [
              "                 red velvet  oreo  ...  choco mint  choco butter naught\n",
              "price per piece          35    25  ...          45                   45\n",
              "cost per piece           25    15  ...          32                   31\n",
              "\n",
              "[2 rows x 12 columns]"
            ]
          },
          "metadata": {
            "tags": []
          },
          "execution_count": 23
        }
      ]
    },
    {
      "cell_type": "code",
      "metadata": {
        "id": "ewYnNn1_LH5S",
        "colab": {
          "base_uri": "https://localhost:8080/",
          "height": 407
        },
        "outputId": "ea7c14d6-c1f5-4fee-e273-3afe3a2d0a6b"
      },
      "source": [
        "## Let's check the sales dataframe\n",
        "df_sales"
      ],
      "execution_count": null,
      "outputs": [
        {
          "output_type": "execute_result",
          "data": {
            "text/html": [
              "<div>\n",
              "<style scoped>\n",
              "    .dataframe tbody tr th:only-of-type {\n",
              "        vertical-align: middle;\n",
              "    }\n",
              "\n",
              "    .dataframe tbody tr th {\n",
              "        vertical-align: top;\n",
              "    }\n",
              "\n",
              "    .dataframe thead th {\n",
              "        text-align: right;\n",
              "    }\n",
              "</style>\n",
              "<table border=\"1\" class=\"dataframe\">\n",
              "  <thead>\n",
              "    <tr style=\"text-align: right;\">\n",
              "      <th></th>\n",
              "      <th>flavor</th>\n",
              "      <th>january</th>\n",
              "      <th>february</th>\n",
              "      <th>march</th>\n",
              "      <th>april</th>\n",
              "      <th>may</th>\n",
              "      <th>june</th>\n",
              "      <th>july</th>\n",
              "      <th>august</th>\n",
              "      <th>september</th>\n",
              "      <th>october</th>\n",
              "      <th>november</th>\n",
              "      <th>december</th>\n",
              "    </tr>\n",
              "  </thead>\n",
              "  <tbody>\n",
              "    <tr>\n",
              "      <th>0</th>\n",
              "      <td>red velvet</td>\n",
              "      <td>781</td>\n",
              "      <td>524</td>\n",
              "      <td>364</td>\n",
              "      <td>157</td>\n",
              "      <td>894</td>\n",
              "      <td>56</td>\n",
              "      <td>89</td>\n",
              "      <td>41</td>\n",
              "      <td>23</td>\n",
              "      <td>78</td>\n",
              "      <td>231</td>\n",
              "      <td>899</td>\n",
              "    </tr>\n",
              "    <tr>\n",
              "      <th>1</th>\n",
              "      <td>oreo</td>\n",
              "      <td>210</td>\n",
              "      <td>324</td>\n",
              "      <td>344</td>\n",
              "      <td>32</td>\n",
              "      <td>123</td>\n",
              "      <td>1</td>\n",
              "      <td>3</td>\n",
              "      <td>0</td>\n",
              "      <td>1</td>\n",
              "      <td>6</td>\n",
              "      <td>312</td>\n",
              "      <td>548</td>\n",
              "    </tr>\n",
              "    <tr>\n",
              "      <th>2</th>\n",
              "      <td>sugar glazed</td>\n",
              "      <td>599</td>\n",
              "      <td>674</td>\n",
              "      <td>854</td>\n",
              "      <td>14</td>\n",
              "      <td>467</td>\n",
              "      <td>78</td>\n",
              "      <td>36</td>\n",
              "      <td>48</td>\n",
              "      <td>75</td>\n",
              "      <td>98</td>\n",
              "      <td>781</td>\n",
              "      <td>1602</td>\n",
              "    </tr>\n",
              "    <tr>\n",
              "      <th>3</th>\n",
              "      <td>almond honey</td>\n",
              "      <td>124</td>\n",
              "      <td>112</td>\n",
              "      <td>114</td>\n",
              "      <td>23</td>\n",
              "      <td>198</td>\n",
              "      <td>12</td>\n",
              "      <td>32</td>\n",
              "      <td>41</td>\n",
              "      <td>23</td>\n",
              "      <td>36</td>\n",
              "      <td>300</td>\n",
              "      <td>566</td>\n",
              "    </tr>\n",
              "    <tr>\n",
              "      <th>4</th>\n",
              "      <td>matcha</td>\n",
              "      <td>645</td>\n",
              "      <td>498</td>\n",
              "      <td>885</td>\n",
              "      <td>98</td>\n",
              "      <td>177</td>\n",
              "      <td>98</td>\n",
              "      <td>43</td>\n",
              "      <td>96</td>\n",
              "      <td>26</td>\n",
              "      <td>71</td>\n",
              "      <td>549</td>\n",
              "      <td>897</td>\n",
              "    </tr>\n",
              "    <tr>\n",
              "      <th>5</th>\n",
              "      <td>strawberry cream</td>\n",
              "      <td>210</td>\n",
              "      <td>372</td>\n",
              "      <td>369</td>\n",
              "      <td>78</td>\n",
              "      <td>163</td>\n",
              "      <td>26</td>\n",
              "      <td>45</td>\n",
              "      <td>22</td>\n",
              "      <td>54</td>\n",
              "      <td>41</td>\n",
              "      <td>207</td>\n",
              "      <td>456</td>\n",
              "    </tr>\n",
              "    <tr>\n",
              "      <th>6</th>\n",
              "      <td>brown sugar boba</td>\n",
              "      <td>981</td>\n",
              "      <td>380</td>\n",
              "      <td>154</td>\n",
              "      <td>14</td>\n",
              "      <td>147</td>\n",
              "      <td>15</td>\n",
              "      <td>98</td>\n",
              "      <td>33</td>\n",
              "      <td>23</td>\n",
              "      <td>36</td>\n",
              "      <td>552</td>\n",
              "      <td>633</td>\n",
              "    </tr>\n",
              "    <tr>\n",
              "      <th>7</th>\n",
              "      <td>furits and nuts</td>\n",
              "      <td>478</td>\n",
              "      <td>462</td>\n",
              "      <td>354</td>\n",
              "      <td>49</td>\n",
              "      <td>89</td>\n",
              "      <td>0</td>\n",
              "      <td>1</td>\n",
              "      <td>0</td>\n",
              "      <td>1</td>\n",
              "      <td>8</td>\n",
              "      <td>335</td>\n",
              "      <td>214</td>\n",
              "    </tr>\n",
              "    <tr>\n",
              "      <th>8</th>\n",
              "      <td>dark chocolate</td>\n",
              "      <td>598</td>\n",
              "      <td>203</td>\n",
              "      <td>36</td>\n",
              "      <td>96</td>\n",
              "      <td>789</td>\n",
              "      <td>4</td>\n",
              "      <td>5</td>\n",
              "      <td>0</td>\n",
              "      <td>8</td>\n",
              "      <td>0</td>\n",
              "      <td>789</td>\n",
              "      <td>458</td>\n",
              "    </tr>\n",
              "    <tr>\n",
              "      <th>9</th>\n",
              "      <td>chocolate and orange</td>\n",
              "      <td>324</td>\n",
              "      <td>123</td>\n",
              "      <td>48</td>\n",
              "      <td>32</td>\n",
              "      <td>65</td>\n",
              "      <td>74</td>\n",
              "      <td>78</td>\n",
              "      <td>45</td>\n",
              "      <td>89</td>\n",
              "      <td>100</td>\n",
              "      <td>632</td>\n",
              "      <td>231</td>\n",
              "    </tr>\n",
              "    <tr>\n",
              "      <th>10</th>\n",
              "      <td>choco mint</td>\n",
              "      <td>458</td>\n",
              "      <td>412</td>\n",
              "      <td>78</td>\n",
              "      <td>78</td>\n",
              "      <td>78</td>\n",
              "      <td>7</td>\n",
              "      <td>3</td>\n",
              "      <td>8</td>\n",
              "      <td>2</td>\n",
              "      <td>1</td>\n",
              "      <td>323</td>\n",
              "      <td>564</td>\n",
              "    </tr>\n",
              "    <tr>\n",
              "      <th>11</th>\n",
              "      <td>choco butter naught</td>\n",
              "      <td>778</td>\n",
              "      <td>586</td>\n",
              "      <td>645</td>\n",
              "      <td>100</td>\n",
              "      <td>987</td>\n",
              "      <td>63</td>\n",
              "      <td>36</td>\n",
              "      <td>89</td>\n",
              "      <td>78</td>\n",
              "      <td>99</td>\n",
              "      <td>784</td>\n",
              "      <td>2310</td>\n",
              "    </tr>\n",
              "  </tbody>\n",
              "</table>\n",
              "</div>"
            ],
            "text/plain": [
              "                  flavor  january  february  ...  october  november  december\n",
              "0             red velvet      781       524  ...       78       231       899\n",
              "1                   oreo      210       324  ...        6       312       548\n",
              "2           sugar glazed      599       674  ...       98       781      1602\n",
              "3           almond honey      124       112  ...       36       300       566\n",
              "4                 matcha      645       498  ...       71       549       897\n",
              "5       strawberry cream      210       372  ...       41       207       456\n",
              "6       brown sugar boba      981       380  ...       36       552       633\n",
              "7        furits and nuts      478       462  ...        8       335       214\n",
              "8         dark chocolate      598       203  ...        0       789       458\n",
              "9   chocolate and orange      324       123  ...      100       632       231\n",
              "10            choco mint      458       412  ...        1       323       564\n",
              "11   choco butter naught      778       586  ...       99       784      2310\n",
              "\n",
              "[12 rows x 13 columns]"
            ]
          },
          "metadata": {
            "tags": []
          },
          "execution_count": 24
        }
      ]
    },
    {
      "cell_type": "markdown",
      "metadata": {
        "id": "BfFBtpfxLH5S"
      },
      "source": [
        "## Part 1: Monthly Sales"
      ]
    },
    {
      "cell_type": "code",
      "metadata": {
        "id": "lO2HWhWNLH5S",
        "colab": {
          "base_uri": "https://localhost:8080/"
        },
        "outputId": "ccc17656-74f6-453b-e8d3-056d9e87b2d9"
      },
      "source": [
        "import numpy as np\n",
        "### Vectorizing the data\n",
        "\n",
        "sales_mat = np.array(df_sales.set_index('flavor'))\n",
        "prices_mat = np.array(df_prices)[0] ## reshape this vector to the appropriate size\n",
        "costs_mat = np.array(df_prices)[1] ## reshape this vector to the appropriate size\n",
        "\n",
        "\n",
        "## Do not alter these lines\n",
        "print(sales_mat.shape)\n",
        "print(prices_mat.shape)\n",
        "print(costs_mat.shape)\n",
        "# Expected Output\n",
        "# (12, 12)\n",
        "# (12, 1)\n",
        "# (12, 1)"
      ],
      "execution_count": null,
      "outputs": [
        {
          "output_type": "stream",
          "text": [
            "(12, 12)\n",
            "(12,)\n",
            "(12,)\n"
          ],
          "name": "stdout"
        }
      ]
    },
    {
      "cell_type": "markdown",
      "metadata": {
        "id": "9-L807YOLH5T"
      },
      "source": [
        "#### Formulas"
      ]
    },
    {
      "cell_type": "markdown",
      "metadata": {
        "id": "nUbleZODLH5T"
      },
      "source": [
        "Take note that the fomula for revenue is: <br>\n",
        "$revenue = sales * price $ <br>\n",
        "In this case, think that revenue, sales, and price are vectors instead of individual values <br>\n",
        "The formula of cost per item sold is: <br>\n",
        "$cost_{sold} = sales * cost$ <br>\n",
        "The formula for profit is: <br>\n",
        "$profit = revenue - cost_{sold}$ <br>\n",
        "Solving for the monthly profit will be the sum of all profits made on that month."
      ]
    },
    {
      "cell_type": "code",
      "metadata": {
        "id": "P0LLZNB-LH5T"
      },
      "source": [
        "#Create a function that *returns* and prints the monthly sales and profit for each month \n",
        "def monthly_sales(price, cost, sales):\n",
        "    monthly_revenue = sum(sales_mat * prices_mat) # Compute for monthly revenue\n",
        "    monthly_costs = sum(sales_mat * costs_mat) # Compute for monthly cost\n",
        "    monthly_profits = monthly_revenue - monthly_costs  #C ompute for monthly profit\n",
        "    return monthly_revenue.flatten(), monthly_costs.flatten(), monthly_profits.flatten()"
      ],
      "execution_count": null,
      "outputs": []
    },
    {
      "cell_type": "code",
      "metadata": {
        "id": "0LGNVsfsLH5T",
        "colab": {
          "base_uri": "https://localhost:8080/"
        },
        "outputId": "b42d1f1a-a10a-46ef-8090-e92c9ad7a71a"
      },
      "source": [
        "### Do not alter this cell\n",
        "month_rev, month_cost, month_profit = monthly_sales(prices_mat, costs_mat, sales_mat)\n",
        "### print the values\n",
        "print('Monthly Revenue: \\n',month_rev,'\\nMonthly Cost: \\n',month_cost,'\\nMonthly Profit: \\n',month_profit)"
      ],
      "execution_count": null,
      "outputs": [
        {
          "output_type": "stream",
          "text": [
            "Monthly Revenue: \n",
            " [216510 116750  84900  26985 208850  17360  18760  19035  12090  22960\n",
            " 260775 422010] \n",
            "Monthly Cost: \n",
            " [154650  70050  42450  15420 146195  13454  14070  10575   6045  14350\n",
            " 185440 290718] \n",
            "Monthly Profit: \n",
            " [ 61860  46700  42450  11565  62655   3906   4690   8460   6045   8610\n",
            "  75335 131292]\n"
          ],
          "name": "stdout"
        }
      ]
    },
    {
      "cell_type": "markdown",
      "metadata": {
        "id": "4WnrnN97LH5T"
      },
      "source": [
        "## Part 2: Flavor Sales"
      ]
    },
    {
      "cell_type": "code",
      "metadata": {
        "id": "qA5UviYjLH5T"
      },
      "source": [
        "def flavor_sales(price, cost, sales):\n",
        "    \n",
        "    flavor_revenue = (sales_mat @ prices_mat)\n",
        "    flavor_costs = (sales_mat @ costs_mat)\n",
        "    flavor_profits = flavor_revenue - flavor_costs  \n",
        "    \n",
        "    return flavor_profits.flatten()\n",
        "\n"
      ],
      "execution_count": null,
      "outputs": []
    },
    {
      "cell_type": "code",
      "metadata": {
        "id": "yYLRLchgLH5U",
        "colab": {
          "base_uri": "https://localhost:8080/"
        },
        "outputId": "90a30b7d-432e-448a-c587-38bb5efc1eca"
      },
      "source": [
        "### Do not alter this cell\n",
        "flavor_profit = flavor_sales(prices_mat, costs_mat, sales_mat)\n",
        "### print the values\n",
        "print('The Yearly profit of each flavor:\\n',flavor_profit)"
      ],
      "execution_count": null,
      "outputs": [
        {
          "output_type": "stream",
          "text": [
            "The Yearly profit of each flavor:\n",
            " [51773 22977 65683 20772 48787 24749 36263 22506 38520 23036 24213 84289]\n"
          ],
          "name": "stdout"
        }
      ]
    },
    {
      "cell_type": "code",
      "metadata": {
        "id": "o7i7fpt1LH5U",
        "colab": {
          "base_uri": "https://localhost:8080/"
        },
        "outputId": "96376a85-151a-4135-dda0-a636cb85bfa3"
      },
      "source": [
        "### identify the best-selling and least-selling flavors. You can use np.sort() or np.argmax() for this.\n",
        "flavors = df_sales['flavor'] # Assigning the variable for the flavors\n",
        "Yearly_Sales= df_sales.sum(axis = 1) # Sums all of the sales in a year for each flavor\n",
        "Yearly_Sales.name = 'Sales' # Assigns a name to the summation\n",
        "\n",
        "# Sorts the ranking of the flavor from highest to lowest by its Sales\n",
        "Flavor_ranking = flavors.to_frame().join(Yearly_Sales).sort_values(by=['Sales'], ascending = False)\n",
        "\n",
        "best_3_flavors = Flavor_ranking['flavor'].head(3).tolist() # Get the Best-Selling flavors\n",
        "least_3_flavors = Flavor_ranking['flavor'].tail(3).tolist() # Get the Least-Selling flavors\n",
        "\n",
        "# Printing of the flavors\n",
        "print('The Best-Selling flavors are:\\n',best_3_flavors[0:3],'\\n') \n",
        "print('The Least-Selling flavors are:\\n',least_3_flavors[0:3],'\\n')"
      ],
      "execution_count": null,
      "outputs": [
        {
          "output_type": "stream",
          "text": [
            "The Best-Selling flavors are:\n",
            " ['choco butter naught', 'sugar glazed', 'red velvet'] \n",
            "\n",
            "The Least-Selling flavors are:\n",
            " ['oreo', 'chocolate and orange', 'almond honey'] \n",
            "\n"
          ],
          "name": "stdout"
        }
      ]
    },
    {
      "cell_type": "markdown",
      "metadata": {
        "id": "pQdmsw8jLH5U"
      },
      "source": [
        "## Part 3: Visualizing the Data (Optional for +40%)\n",
        "You can try to visualize the data in the most comprehensible chart that you can use."
      ]
    },
    {
      "cell_type": "code",
      "metadata": {
        "id": "XY6z5xvfLH5U"
      },
      "source": [
        "import matplotlib.pyplot as plt\n",
        "import matplotlib\n",
        "import seaborn as sns\n",
        "\n",
        "%matplotlib inline"
      ],
      "execution_count": null,
      "outputs": []
    },
    {
      "cell_type": "markdown",
      "metadata": {
        "id": "3_b06v7FLH5U"
      },
      "source": [
        "#### Entire Dataset"
      ]
    },
    {
      "cell_type": "code",
      "metadata": {
        "id": "whgU7kEjLH5V"
      },
      "source": [
        ""
      ],
      "execution_count": null,
      "outputs": []
    },
    {
      "cell_type": "markdown",
      "metadata": {
        "id": "TnRrvdn0LH5V"
      },
      "source": [
        "#### Monthly Sales"
      ]
    },
    {
      "cell_type": "code",
      "metadata": {
        "id": "4r7kCkm9LH5V"
      },
      "source": [
        ""
      ],
      "execution_count": null,
      "outputs": []
    },
    {
      "cell_type": "markdown",
      "metadata": {
        "id": "qQl5kt1oLH5V"
      },
      "source": [
        "#### Flavor Sales"
      ]
    },
    {
      "cell_type": "code",
      "metadata": {
        "id": "09csCLluLH5V"
      },
      "source": [
        ""
      ],
      "execution_count": null,
      "outputs": []
    },
    {
      "cell_type": "markdown",
      "metadata": {
        "id": "m09WIdTVLH5V"
      },
      "source": [
        "## Part 4: Business Recommendation and Conclusion\n",
        "Present the findings of your data analysis and provide recommendations"
      ]
    },
    {
      "cell_type": "markdown",
      "metadata": {
        "id": "7RvqmzHeLH5V"
      },
      "source": [
        "**FINDINGS**\n",
        "\n",
        "  The details in the first diagram indicate the expense and price of each flavor in Bebang's shop. In the first quarter of the year, the highest benefit can be seen. Profit decreased steadily in the second and third quarters. As seen in the chart, flavor matcha is the highest in price and cost whereas sugar-glazed matcha is the lowest. For each month within the year, the following six charts reflect comprehensive sales. The eighth diagram is the annual sales, the list of every month's sales. December is the most lucrative month, and September is the least profitable.\n",
        "  \n",
        "\n",
        "\n",
        "**RECOMMENDATIONS**\n",
        "\n",
        "For Bebang, my advice is for her to reduce flavor stocks with poor revenue and benefit and to gradually remove them if they do not do well in the next months. She also could twist other flavors and launch new promotional campaigns to boost sales further.\n"
      ]
    }
  ]
}