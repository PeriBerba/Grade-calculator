{
  "nbformat": 4,
  "nbformat_minor": 0,
  "metadata": {
    "kernelspec": {
      "display_name": "Python 3",
      "language": "python",
      "name": "python3"
    },
    "language_info": {
      "codemirror_mode": {
        "name": "ipython",
        "version": 3
      },
      "file_extension": ".py",
      "mimetype": "text/x-python",
      "name": "python",
      "nbconvert_exporter": "python",
      "pygments_lexer": "ipython3",
      "version": "3.8.3-final"
    },
    "colab": {
      "name": "LinAlg Lab 4.ipynb",
      "provenance": [],
      "include_colab_link": true
    }
  },
  "cells": [
    {
      "cell_type": "markdown",
      "metadata": {
        "id": "view-in-github",
        "colab_type": "text"
      },
      "source": [
        "<a href=\"https://colab.research.google.com/github/PeriBerba/Linear-Algebra-LAB-activity/blob/main/LinAlg_Lab_4.ipynb\" target=\"_parent\"><img src=\"https://colab.research.google.com/assets/colab-badge.svg\" alt=\"Open In Colab\"/></a>"
      ]
    },
    {
      "cell_type": "markdown",
      "metadata": {
        "id": "0gjyPA1JKtdS"
      },
      "source": [
        "# Linear Algebra for CpE\n",
        "## Laboratory 4 : Vector Operations"
      ]
    },
    {
      "cell_type": "markdown",
      "metadata": {
        "id": "iH6HK15uKtdX"
      },
      "source": [
        "Now that you have a fundamental knowledge about linear combination, we'll try to apply the fundamental operations"
      ]
    },
    {
      "cell_type": "markdown",
      "metadata": {
        "id": "ocioHyMQKtdY"
      },
      "source": [
        "### Objectives\n",
        "At the end of this activity you will be able to:\n",
        "1. Referesh knowledge on vector operations while being familiar with new operations such as products.\n",
        "2. Visualize vector operations.\n",
        "3. Perform vector operations using Python."
      ]
    },
    {
      "cell_type": "markdown",
      "metadata": {
        "id": "H12RzFWIKtdY"
      },
      "source": [
        "## Discussion"
      ]
    },
    {
      "cell_type": "code",
      "metadata": {
        "id": "KXJ82gYQKtdY"
      },
      "source": [
        "import numpy as np"
      ],
      "execution_count": null,
      "outputs": []
    },
    {
      "cell_type": "markdown",
      "metadata": {
        "id": "wil6uzDcKtdZ"
      },
      "source": [
        "We have dealt with some of the vector operations in the last module, now we will dwell into more operations. In this laboratory, we will tackle addition,multiplication,division and the inner product of a vector."
      ]
    },
    {
      "cell_type": "markdown",
      "metadata": {
        "id": "wPO82O4hKtdZ"
      },
      "source": [
        "## Vector Addition"
      ]
    },
    {
      "cell_type": "markdown",
      "metadata": {
        "id": "ulK053qqKtdZ"
      },
      "source": [
        "We have encountered vector before especially with your last activity. Vector addition is simply the element-wise addition of the scalar values of the vectors. Let's take the following vectors as a sample:\n",
        "\n",
        "$$A = \\begin{bmatrix}1\\\\2\\\\0\\end{bmatrix}, B= \\begin{bmatrix}3\\\\1\\\\-2 \\end{bmatrix}$$\n",
        "\n",
        "So if do a vector addition of these two vectors we'll get:\n",
        "\n",
        "$$A + B = \\begin{bmatrix}4\\\\3\\\\-2\\end{bmatrix}$$\n",
        "\n",
        "We can progammatically solve this using `np.add()` or simply using `+`."
      ]
    },
    {
      "cell_type": "code",
      "metadata": {
        "id": "jOnYm-YrKtdZ"
      },
      "source": [
        "A = np.array([1,2,0])\n",
        "B = np.array([3,1,-2])\n",
        "C = np.array([0,0,1])"
      ],
      "execution_count": null,
      "outputs": []
    },
    {
      "cell_type": "code",
      "metadata": {
        "id": "Id_OTsfrKtda",
        "colab": {
          "base_uri": "https://localhost:8080/"
        },
        "outputId": "536de7d8-bc14-4374-c186-5a669b5ec29b"
      },
      "source": [
        "A+B+C"
      ],
      "execution_count": null,
      "outputs": [
        {
          "output_type": "execute_result",
          "data": {
            "text/plain": [
              "array([ 4,  3, -1])"
            ]
          },
          "metadata": {
            "tags": []
          },
          "execution_count": 7
        }
      ]
    },
    {
      "cell_type": "code",
      "metadata": {
        "id": "OSdg5AJuKtdb",
        "colab": {
          "base_uri": "https://localhost:8080/"
        },
        "outputId": "80f9b9e2-eb34-4525-a7bd-19f568e10025"
      },
      "source": [
        "np.add(A,np.add(B,C))"
      ],
      "execution_count": null,
      "outputs": [
        {
          "output_type": "execute_result",
          "data": {
            "text/plain": [
              "array([ 4,  3, -1])"
            ]
          },
          "metadata": {
            "tags": []
          },
          "execution_count": 11
        }
      ]
    },
    {
      "cell_type": "code",
      "metadata": {
        "colab": {
          "base_uri": "https://localhost:8080/"
        },
        "id": "U9ZbuWL77MdP",
        "outputId": "4ea7d762-fa14-4c3d-fc60-4f134072c259"
      },
      "source": [
        "np.sum(B)"
      ],
      "execution_count": null,
      "outputs": [
        {
          "output_type": "execute_result",
          "data": {
            "text/plain": [
              "2"
            ]
          },
          "metadata": {
            "tags": []
          },
          "execution_count": 13
        }
      ]
    },
    {
      "cell_type": "markdown",
      "metadata": {
        "id": "hcmngHMmKtdb"
      },
      "source": [
        "## Vector Subtraction"
      ]
    },
    {
      "cell_type": "markdown",
      "metadata": {
        "id": "YLJmSSG0Ktdb"
      },
      "source": [
        "Vector subtraction is similar to your vector addition but you would need to scale the second vector using a negative scalar that is usuall $-1$. So if we subtract vector $B$ from vector $A$ we get:\n",
        "\n",
        "$$A-B = \\begin{bmatrix}-2\\\\1\\\\2\\end{bmatrix}$$\n",
        "\n",
        "In Python, this can be achieved by using `np.subtract()` or `-`"
      ]
    },
    {
      "cell_type": "code",
      "metadata": {
        "id": "mrAGvr5gKtdb",
        "colab": {
          "base_uri": "https://localhost:8080/"
        },
        "outputId": "8838f93f-3194-4e7f-c9d7-b3d08cb61f6c"
      },
      "source": [
        "np.subtract(A,B)"
      ],
      "execution_count": null,
      "outputs": [
        {
          "output_type": "execute_result",
          "data": {
            "text/plain": [
              "array([-2,  1,  2])"
            ]
          },
          "metadata": {
            "tags": []
          },
          "execution_count": 14
        }
      ]
    },
    {
      "cell_type": "code",
      "metadata": {
        "id": "S2bPjOFUKtdc",
        "colab": {
          "base_uri": "https://localhost:8080/"
        },
        "outputId": "ba0c7a62-982b-4f9a-b57a-f5a457b3aa81"
      },
      "source": [
        "A-B"
      ],
      "execution_count": null,
      "outputs": [
        {
          "output_type": "execute_result",
          "data": {
            "text/plain": [
              "array([-2,  1,  2])"
            ]
          },
          "metadata": {
            "tags": []
          },
          "execution_count": 15
        }
      ]
    },
    {
      "cell_type": "markdown",
      "metadata": {
        "id": "bWdtUj7OKtdc"
      },
      "source": [
        "## Vector Multiplication"
      ]
    },
    {
      "cell_type": "markdown",
      "metadata": {
        "id": "pgcB5oNyKtdc"
      },
      "source": [
        "Vector multiplication, like addition does its operations element-wise. So basic vector multiplication can be achieved by multiplying the elements or the scalars of the vectors individually. So:\n",
        "$$A * B = \\begin{bmatrix}3\\\\2\\\\0\\end{bmatrix}$$\n",
        "We can implement this in code by using `np.multiply()` or simply operating with `*`."
      ]
    },
    {
      "cell_type": "code",
      "metadata": {
        "id": "ep8YyQDmKtdd",
        "colab": {
          "base_uri": "https://localhost:8080/"
        },
        "outputId": "138b6498-3a42-4680-d424-9fa0051d06a6"
      },
      "source": [
        "np.multiply(A,B)"
      ],
      "execution_count": null,
      "outputs": [
        {
          "output_type": "execute_result",
          "data": {
            "text/plain": [
              "array([3, 2, 0])"
            ]
          },
          "metadata": {
            "tags": []
          },
          "execution_count": 16
        }
      ]
    },
    {
      "cell_type": "code",
      "metadata": {
        "id": "GWygp8gkKtdd",
        "colab": {
          "base_uri": "https://localhost:8080/"
        },
        "outputId": "d31ffc1f-ff64-4f30-a56f-ca95b3c281f6"
      },
      "source": [
        "A*B"
      ],
      "execution_count": null,
      "outputs": [
        {
          "output_type": "execute_result",
          "data": {
            "text/plain": [
              "array([3, 2, 0])"
            ]
          },
          "metadata": {
            "tags": []
          },
          "execution_count": 17
        }
      ]
    },
    {
      "cell_type": "markdown",
      "metadata": {
        "id": "Nva_5geWKtdd"
      },
      "source": [
        "## Vector Division"
      ]
    },
    {
      "cell_type": "markdown",
      "metadata": {
        "id": "gbPLif1CKtdd"
      },
      "source": [
        "Dividing a vector by another is uncommon, but if the situation specifies that each elements or scalars of the vector would be divided individually we can perform this by:\n",
        "$$A./B = \\begin{bmatrix}\\frac{1}{3}\\\\2\\\\0\\end{bmatrix}$$\n",
        "Take note that the notation we used here is $./$ for element-wise division, this notation is based in a MATLab notation for element-wise division. This can be achieved in Python using `np.divide()` or `/`."
      ]
    },
    {
      "cell_type": "code",
      "metadata": {
        "id": "i503AW8uKtdd",
        "colab": {
          "base_uri": "https://localhost:8080/"
        },
        "outputId": "02426a09-0f85-47f2-cfeb-23045c1febc0"
      },
      "source": [
        "np.divide(A,B)"
      ],
      "execution_count": null,
      "outputs": [
        {
          "output_type": "execute_result",
          "data": {
            "text/plain": [
              "array([ 0.33333333,  2.        , -0.        ])"
            ]
          },
          "metadata": {
            "tags": []
          },
          "execution_count": 18
        }
      ]
    },
    {
      "cell_type": "code",
      "metadata": {
        "id": "un6jrygRKtdg",
        "colab": {
          "base_uri": "https://localhost:8080/"
        },
        "outputId": "4cd07cc5-66a0-49bf-99f9-9aa58df76cd7"
      },
      "source": [
        "A/B"
      ],
      "execution_count": null,
      "outputs": [
        {
          "output_type": "execute_result",
          "data": {
            "text/plain": [
              "array([ 0.33333333,  2.        , -0.        ])"
            ]
          },
          "metadata": {
            "tags": []
          },
          "execution_count": 19
        }
      ]
    },
    {
      "cell_type": "code",
      "metadata": {
        "colab": {
          "base_uri": "https://localhost:8080/"
        },
        "id": "3cHXU6VN732O",
        "outputId": "db2c2cff-5ab2-4f76-dd85-8dad1afb712c"
      },
      "source": [
        "C = np.array([3.9,1.8,7.7])\r\n",
        "D = np.array([1,1,1])\r\n",
        "C//D"
      ],
      "execution_count": null,
      "outputs": [
        {
          "output_type": "execute_result",
          "data": {
            "text/plain": [
              "array([3., 1., 7.])"
            ]
          },
          "metadata": {
            "tags": []
          },
          "execution_count": 26
        }
      ]
    },
    {
      "cell_type": "code",
      "metadata": {
        "colab": {
          "base_uri": "https://localhost:8080/"
        },
        "id": "eG5bfGlZ7a9Z",
        "outputId": "820053b0-cd30-4576-d8f7-f8c09cf79a8f"
      },
      "source": [
        "np.array(A/B,dtype=int)"
      ],
      "execution_count": null,
      "outputs": [
        {
          "output_type": "execute_result",
          "data": {
            "text/plain": [
              "array([0, 2, 0])"
            ]
          },
          "metadata": {
            "tags": []
          },
          "execution_count": 22
        }
      ]
    },
    {
      "cell_type": "markdown",
      "metadata": {
        "id": "e96oBq1nKtdg"
      },
      "source": [
        "## Modulus of a Vector"
      ]
    },
    {
      "cell_type": "markdown",
      "metadata": {
        "id": "fOmYCOHEKtdg"
      },
      "source": [
        "The modulus of a vector or the magnitude of a vector can be determined using the Pythagorean theorem. Given the vector $A$ and its scalars denoted as $a_n$ where $n$ is the index of the scalar. So if we have:\n",
        "$$A = \\begin{bmatrix}1\\\\2\\end{bmatrix}$$\n",
        "We can compute the magnitude as:\n",
        "$$||A|| = \\sqrt{a_1^2 + a_2^2} = \\sqrt{1^2 + 2^2} = \\sqrt{5}$$\n",
        "So if we have a matrix with more parameters such as:\n",
        "$$B=\\begin{bmatrix}2\\\\5\\\\-1\\\\0\\end{bmatrix}$$\n",
        "We can generalize the Pythagorean theorem to compute for the magnitude as:\n",
        "$$||B|| = \\sqrt{b_1^2 + b_2^2 + b_3^2 + ... +b_n^2} = \\sqrt{\\sum_{n=1}^{N}b_n^2}$$\n",
        "And this equation is now called a Euclidian distance or the Euclidean Norm. We can implement this explicitly by for loops or using `np.linalg.norm()` to get the Euclidian Norm."
      ]
    },
    {
      "cell_type": "code",
      "metadata": {
        "id": "kcBJB76oKtdh"
      },
      "source": [
        "A = np.array([1,2])\n",
        "B = np.array([2,5,-1,0])"
      ],
      "execution_count": null,
      "outputs": []
    },
    {
      "cell_type": "code",
      "metadata": {
        "id": "ABdM9ETAKtdh",
        "colab": {
          "base_uri": "https://localhost:8080/"
        },
        "outputId": "845b0e27-f452-4f0a-edb4-d6a4bbf9e50a"
      },
      "source": [
        "np.linalg.norm(A)"
      ],
      "execution_count": null,
      "outputs": [
        {
          "output_type": "execute_result",
          "data": {
            "text/plain": [
              "2.23606797749979"
            ]
          },
          "metadata": {
            "tags": []
          },
          "execution_count": 27
        }
      ]
    },
    {
      "cell_type": "code",
      "metadata": {
        "id": "if7rRjUHKtdh",
        "colab": {
          "base_uri": "https://localhost:8080/"
        },
        "outputId": "0dd49305-3015-4b3b-fd9b-36e20f61e00f"
      },
      "source": [
        "np.linalg.norm(B)"
      ],
      "execution_count": null,
      "outputs": [
        {
          "output_type": "execute_result",
          "data": {
            "text/plain": [
              "3.7416573867739413"
            ]
          },
          "metadata": {
            "tags": []
          },
          "execution_count": 29
        }
      ]
    },
    {
      "cell_type": "markdown",
      "metadata": {
        "id": "9CqMVpT2Ktdh"
      },
      "source": [
        "## Vector Dot Product / Inner Product"
      ]
    },
    {
      "cell_type": "markdown",
      "metadata": {
        "id": "Yqk9nR9GKtdh"
      },
      "source": [
        "The inner product of a vector is the sum of the products of each elements of the vectors. So given vectors $H$ and $G$ below:\n",
        "$$H=\\begin{bmatrix}1\\\\3\\\\6\\end{bmatrix}, G = \\begin{bmatrix}5\\\\2\\\\1\\end{bmatrix}$$\n",
        "We first take the element-wise product of the vectors:\n",
        "$$H*G = \\begin{bmatrix}5\\\\6\\\\6\\end{bmatrix}$$\n",
        "Then we take the sum of the products, making it the inner product of a vector:\n",
        "$$H\\cdot G = 17$$\n",
        "You can solve for the inner product using an explicit function, `np.inner()` or the `@` operator."
      ]
    },
    {
      "cell_type": "code",
      "metadata": {
        "id": "ZWwwV0F9Ktdh"
      },
      "source": [
        "H = np.array([1,3,6])\n",
        "G = np.array([5,2,1])"
      ],
      "execution_count": null,
      "outputs": []
    },
    {
      "cell_type": "code",
      "metadata": {
        "id": "D3nyuLCBKtdi",
        "outputId": "987cb409-6bcc-40b9-fea2-780e5a9c6f64"
      },
      "source": [
        "np.inner(H,G)"
      ],
      "execution_count": null,
      "outputs": [
        {
          "output_type": "execute_result",
          "data": {
            "text/plain": [
              "17"
            ]
          },
          "metadata": {
            "tags": []
          },
          "execution_count": 50
        }
      ]
    },
    {
      "cell_type": "code",
      "metadata": {
        "id": "NsrPudsKKtdi",
        "colab": {
          "base_uri": "https://localhost:8080/"
        },
        "outputId": "1063ffa4-fe48-4644-ff0c-8f31580193a3"
      },
      "source": [
        "np.linalg.norm(H)"
      ],
      "execution_count": null,
      "outputs": [
        {
          "output_type": "execute_result",
          "data": {
            "text/plain": [
              "6.782329983125268"
            ]
          },
          "metadata": {
            "tags": []
          },
          "execution_count": 35
        }
      ]
    },
    {
      "cell_type": "code",
      "metadata": {
        "colab": {
          "base_uri": "https://localhost:8080/"
        },
        "id": "fRN3M2UN9WPm",
        "outputId": "e5a2b892-f87b-47f3-eefe-3f047b60dfec"
      },
      "source": [
        "np.sqrt(H@H)"
      ],
      "execution_count": null,
      "outputs": [
        {
          "output_type": "execute_result",
          "data": {
            "text/plain": [
              "6.782329983125268"
            ]
          },
          "metadata": {
            "tags": []
          },
          "execution_count": 37
        }
      ]
    },
    {
      "cell_type": "markdown",
      "metadata": {
        "id": "As11de-AKtdi"
      },
      "source": [
        "## Activity"
      ]
    },
    {
      "cell_type": "markdown",
      "metadata": {
        "id": "g6my9m9OKtdi"
      },
      "source": [
        "### Task 1"
      ]
    },
    {
      "cell_type": "markdown",
      "metadata": {
        "id": "yP-XW99JKtdi"
      },
      "source": [
        "Make an explicit function (not using any of NumPy's preset functions) solving the modulus of a vector using the Euclidian Norm formula: \n",
        "$$||X|| = \\sqrt{\\sum_{n=1}^{N}x_n^2}$$\n",
        "Create a program flowchart for your algorithm and explain it in your methodology. Create 6 different vectors which their element count should not be lower than 4 elements. Explain the results at the results discussion section while comparing them to the `np.linalg.norm()` function."
      ]
    },
    {
      "cell_type": "code",
      "metadata": {
        "id": "IuoG8l9mKtdj"
      },
      "source": [
        ""
      ],
      "execution_count": null,
      "outputs": []
    },
    {
      "cell_type": "markdown",
      "metadata": {
        "id": "AXjJp6KXKtdj"
      },
      "source": [
        "### Task 2"
      ]
    },
    {
      "cell_type": "markdown",
      "metadata": {
        "id": "Skoy_JdlKtdj"
      },
      "source": [
        "Make an explicit function (not using any of NumPy's preset functions nor the `@` operator) solving the inner product of two vectors using the inner product formula: \n",
        "$$A\\cdot B = \\sum_{n=1}^{N} a_n \\times b_n $$\n",
        "$$whereas: N = len(A) = len(B)$$\n",
        "Create a program flowchart for your algorithm and explain it in your methodology. Create 5 distinct pairs vectors which their element count should not be lower than 5 elements. Explain the results at the results discussion section while comparing them to the `np.inner()` function."
      ]
    },
    {
      "cell_type": "code",
      "metadata": {
        "id": "F_bWvCI8Ktdj"
      },
      "source": [
        ""
      ],
      "execution_count": null,
      "outputs": []
    },
    {
      "cell_type": "markdown",
      "metadata": {
        "id": "6qWPdvHaKtdj"
      },
      "source": [
        "### Task 3"
      ]
    },
    {
      "cell_type": "markdown",
      "metadata": {
        "id": "pnHTuNSnKtdj"
      },
      "source": [
        "Code the following vector operation and solve them using the given vector values"
      ]
    },
    {
      "cell_type": "markdown",
      "metadata": {
        "id": "8h7haB7TKtdj"
      },
      "source": [
        "$$ ((A^2 + B^2 + C^2) * (A * (B + A*B)./C))*||A + B + C||$$\n",
        "$$A = \\begin{bmatrix}-0.4\\\\4.3\\\\-0.6\\end{bmatrix}, B = \\begin{bmatrix}-0.2\\\\0.2\\\\1\\end{bmatrix}, C = \\begin{bmatrix}-0.2\\\\2.1\\\\-1.5\\end{bmatrix}$$"
      ]
    },
    {
      "cell_type": "markdown",
      "metadata": {
        "id": "sH6IXNvAKtdk"
      },
      "source": [
        "Create a program flowchart for your algorithm and explain it in your methodology. In your results, compare your answer to the expected output, visualize, and explain the resulting vector using a 3D plot."
      ]
    },
    {
      "cell_type": "markdown",
      "metadata": {
        "id": "izU2vRWtKtdk"
      },
      "source": [
        "## Conclusion guide"
      ]
    },
    {
      "cell_type": "markdown",
      "metadata": {
        "id": "B2IBZHkIKtdk"
      },
      "source": [
        "For your conclusion synthesize the concept and application of the laboratory. Briefly discuss what you have learned and achieved in this activity. "
      ]
    }
  ]
}